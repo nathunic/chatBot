{
 "cells": [
  {
   "cell_type": "code",
   "execution_count": 5,
   "id": "0bb95564",
   "metadata": {},
   "outputs": [
    {
     "name": "stdout",
     "output_type": "stream",
     "text": [
      "✔ Download and installation successful\n",
      "You can now load the package via spacy.load('en_core_web_sm')\n"
     ]
    }
   ],
   "source": [
    "from chatterbot import ChatBot\n",
    "from chatterbot.trainers import ListTrainer\n",
    "\n",
    "from spacy.cli import download\n",
    "\n",
    "download(\"en_core_web_sm\")\n",
    "\n",
    "class ENGSM:\n",
    "        ISO_639_1 = 'en_core_web_sm'\n"
   ]
  },
  {
   "cell_type": "code",
   "execution_count": 7,
   "id": "6bf5be04",
   "metadata": {},
   "outputs": [
    {
     "name": "stdout",
     "output_type": "stream",
     "text": [
      "List Trainer: [####################] 100%\n",
      "Mande uma mensagem para o ChatBot:oie\n",
      "Olá, como posso te ajudar?\n"
     ]
    },
    {
     "ename": "KeyboardInterrupt",
     "evalue": "Interrupted by user",
     "output_type": "error",
     "traceback": [
      "\u001b[1;31m---------------------------------------------------------------------------\u001b[0m",
      "\u001b[1;31mKeyboardInterrupt\u001b[0m                         Traceback (most recent call last)",
      "\u001b[1;32m<ipython-input-7-3e89e667e4fc>\u001b[0m in \u001b[0;36m<module>\u001b[1;34m\u001b[0m\n\u001b[0;32m     90\u001b[0m \u001b[1;33m\u001b[0m\u001b[0m\n\u001b[0;32m     91\u001b[0m \u001b[1;32mwhile\u001b[0m \u001b[1;32mTrue\u001b[0m\u001b[1;33m:\u001b[0m\u001b[1;33m\u001b[0m\u001b[1;33m\u001b[0m\u001b[0m\n\u001b[1;32m---> 92\u001b[1;33m     \u001b[0mmensagem\u001b[0m \u001b[1;33m=\u001b[0m \u001b[0minput\u001b[0m\u001b[1;33m(\u001b[0m\u001b[1;34m\"Mande uma mensagem para o ChatBot:\"\u001b[0m\u001b[1;33m)\u001b[0m\u001b[1;33m\u001b[0m\u001b[1;33m\u001b[0m\u001b[0m\n\u001b[0m\u001b[0;32m     93\u001b[0m     \u001b[1;32mif\u001b[0m \u001b[0mmensagem\u001b[0m \u001b[1;33m==\u001b[0m \u001b[1;34m\"parar\"\u001b[0m\u001b[1;33m:\u001b[0m\u001b[1;33m\u001b[0m\u001b[1;33m\u001b[0m\u001b[0m\n\u001b[0;32m     94\u001b[0m             \u001b[1;32mbreak\u001b[0m\u001b[1;33m\u001b[0m\u001b[1;33m\u001b[0m\u001b[0m\n",
      "\u001b[1;32m~\\AppData\\Local\\anaconda3\\envs\\chatbotDAC\\lib\\site-packages\\ipykernel\\kernelbase.py\u001b[0m in \u001b[0;36mraw_input\u001b[1;34m(self, prompt)\u001b[0m\n\u001b[0;32m    852\u001b[0m             \u001b[0mself\u001b[0m\u001b[1;33m.\u001b[0m\u001b[0m_parent_ident\u001b[0m\u001b[1;33m,\u001b[0m\u001b[1;33m\u001b[0m\u001b[1;33m\u001b[0m\u001b[0m\n\u001b[0;32m    853\u001b[0m             \u001b[0mself\u001b[0m\u001b[1;33m.\u001b[0m\u001b[0m_parent_header\u001b[0m\u001b[1;33m,\u001b[0m\u001b[1;33m\u001b[0m\u001b[1;33m\u001b[0m\u001b[0m\n\u001b[1;32m--> 854\u001b[1;33m             \u001b[0mpassword\u001b[0m\u001b[1;33m=\u001b[0m\u001b[1;32mFalse\u001b[0m\u001b[1;33m,\u001b[0m\u001b[1;33m\u001b[0m\u001b[1;33m\u001b[0m\u001b[0m\n\u001b[0m\u001b[0;32m    855\u001b[0m         )\n\u001b[0;32m    856\u001b[0m \u001b[1;33m\u001b[0m\u001b[0m\n",
      "\u001b[1;32m~\\AppData\\Local\\anaconda3\\envs\\chatbotDAC\\lib\\site-packages\\ipykernel\\kernelbase.py\u001b[0m in \u001b[0;36m_input_request\u001b[1;34m(self, prompt, ident, parent, password)\u001b[0m\n\u001b[0;32m    893\u001b[0m             \u001b[1;32mexcept\u001b[0m \u001b[0mKeyboardInterrupt\u001b[0m\u001b[1;33m:\u001b[0m\u001b[1;33m\u001b[0m\u001b[1;33m\u001b[0m\u001b[0m\n\u001b[0;32m    894\u001b[0m                 \u001b[1;31m# re-raise KeyboardInterrupt, to truncate traceback\u001b[0m\u001b[1;33m\u001b[0m\u001b[1;33m\u001b[0m\u001b[1;33m\u001b[0m\u001b[0m\n\u001b[1;32m--> 895\u001b[1;33m                 \u001b[1;32mraise\u001b[0m \u001b[0mKeyboardInterrupt\u001b[0m\u001b[1;33m(\u001b[0m\u001b[1;34m\"Interrupted by user\"\u001b[0m\u001b[1;33m)\u001b[0m \u001b[1;32mfrom\u001b[0m \u001b[1;32mNone\u001b[0m\u001b[1;33m\u001b[0m\u001b[1;33m\u001b[0m\u001b[0m\n\u001b[0m\u001b[0;32m    896\u001b[0m             \u001b[1;32mexcept\u001b[0m \u001b[0mException\u001b[0m \u001b[1;32mas\u001b[0m \u001b[0me\u001b[0m\u001b[1;33m:\u001b[0m\u001b[1;33m\u001b[0m\u001b[1;33m\u001b[0m\u001b[0m\n\u001b[0;32m    897\u001b[0m                 \u001b[0mself\u001b[0m\u001b[1;33m.\u001b[0m\u001b[0mlog\u001b[0m\u001b[1;33m.\u001b[0m\u001b[0mwarning\u001b[0m\u001b[1;33m(\u001b[0m\u001b[1;34m\"Invalid Message:\"\u001b[0m\u001b[1;33m,\u001b[0m \u001b[0mexc_info\u001b[0m\u001b[1;33m=\u001b[0m\u001b[1;32mTrue\u001b[0m\u001b[1;33m)\u001b[0m\u001b[1;33m\u001b[0m\u001b[1;33m\u001b[0m\u001b[0m\n",
      "\u001b[1;31mKeyboardInterrupt\u001b[0m: Interrupted by user"
     ]
    }
   ],
   "source": [
    "chatbot = ChatBot(\"ChatClass\", tagger_language=ENGSM)\n",
    "\n",
    "treinamento = [\n",
    "    ##Q&A gerais\n",
    "    \"Oie\",\n",
    "    \"Olá, como posso te ajudar?\",\n",
    "    \"Entendi, obrigada.\",\n",
    "    \"Estou aqui para te auxiliar. No que mais posso ajudar?\",\n",
    "    \n",
    "    ##Q&A especificas sobre a DAC\n",
    "    \"Qual o limite de créditos por semestre?\",\n",
    "    \"Você pode cursar até no máximo 30 créditos por período letivo.\",\n",
    "    \"O curriculo de BSI possui espaço para eletivas?\",\n",
    "    \"Possui sim. É necessário realizar 16 créditos eletivos em BSI. Conforme o currículo sugerido, há espaços para eletivas na grade no 4o, 5o e 6o semestre. Porém você não precisa se limitar a isso. Faça eletivas em todo semestre, é uma ótima forma de ampliar seu conhecimento\",\n",
    "    \n",
    "    ##Q&A especificas sobre a BSI\n",
    "    \"Gostaria de saber sobre o curso de Bacharelado em Sistemas da Informação.\",\n",
    "    \"Atualmente o curso de BSI possui 47 disciplinas obrigatórias, que poderão ser integralizadas entre 8 semestres e 12 semestres, conforme proposta oferecida no currículo pleno.\",\n",
    "    \n",
    "    #Q&A especificas o 1o semestre de BSI\n",
    "    \"Gostaria de saber sobre as disciplinas do primeiro semestre do curso de BSI.\",\n",
    "    \"No primeiro semestre de BSI é ensinado Cálculo I, Algoritmos e Programação de Computadores I, Fundamentos de Sistemas de Informação, Seminários I, Lógica Matemática, Metodologia do Trabalho Científico, Organização e Arquitetura de Computadores e Administração de Empresas\",\n",
    "    \"Quero saber o código de Fundamentos de Sistemas de Informação\",\n",
    "    \"O código dessa matéria é SI101.\",\n",
    "    \"Quero saber o código de Lógica Matemática\",\n",
    "    \"O código dessa matéria é SI120.\",\n",
    "    \n",
    "    \"Qual é o pré-requisito da disciplina SI101?\",\n",
    "    \"Essa é uma matéria do primeiro semestre, portanto não possui pré-requisito.\",\n",
    "    \"Qual é o pré-requisito da disciplina SI120?\",\n",
    "    \"Essa é uma matéria do primeiro semestre, portanto não possui pré-requisito.\",\n",
    "    \n",
    "    \"Quantos créditos poossui a disciplina SI101?\",\n",
    "    \"A disciplina possui 2 créditos.\",\n",
    "    \"Quantos créditos poossui a disciplina SI120?\",\n",
    "    \"A disciplina possui 2 créditos.\",\n",
    "    \n",
    "    #Q&A especificas o 3o semestre de BSI\n",
    "    \"Gostaria de saber o código das disciplinas do terceiro semestre do curso de BSI.\",\n",
    "    \"No terceiro semestre de BSI é ensinado SI300, SI304, SI350, SI404, ST567, ST211, ST568 e TT304.\",\n",
    "    \"Gostaria de saber o nome das disciplinas do terceiro semestre do curso de BSI.\",\n",
    "    \"No terceiro semestre de BSI é ensinado Programação Orientada a Objetos I, Engenharia de Software II, Teoria Geral de Sistemas, Introdução a Interfaces Humano-Computador, Banco de Dados I, Estatística, Redes de Comunicação I e Sistemas Operacionais\",\n",
    "    \"Quero saber o código de Programação Orientada a Objetos I\",\n",
    "    \"O código dessa matéria é SI300.\",\n",
    "    \"Quero saber o código de Engenharia de Software II\",\n",
    "    \"O código dessa matéria é SI304.\",\n",
    "    \"Quero saber o código de Teoria Geral de Sistemas\",\n",
    "    \"O código dessa matéria é SI350.\",\n",
    "    \"Quero saber o código de Introdução a Interfaces Humano-Computador?\",\n",
    "    \"O código dessa matéria é SI404.\",\n",
    "    \"Quero saber o código de Banco de Dados I\",\n",
    "    \"O código dessa matéria é ST567.\",\n",
    "    \"Quero saber o código de Estatística\",\n",
    "    \"O código dessa matéria é ST211.\",\n",
    "    \"Quero saber o código de Redes de Comunicação I\",\n",
    "    \"O código dessa matéria é ST568.\",\n",
    "    \n",
    "    \"Qual é o pré-requisito da disciplina Programação Orientada a Objetos I?\",\n",
    "    \"A disciplina Programação Orientada a Objetos I possui SI100 como pré-requisito.\",\n",
    "    \"Qual é o pré-requisito da disciplina Engenharia de Software II?\",\n",
    "    \"A disciplina Programação Orientada a Objetos I possui ST266 como pré-requisito.\",\n",
    "    \"Qual é o pré-requisito da disciplina Teoria Geral de Sistemas?\",\n",
    "    \"A disciplina Programação Orientada a Objetos I possui TT350 como pré-requisito.\",\n",
    "    \"Qual é o pré-requisito da disciplina Introdução a Interfaces Humano-Computador?\",\n",
    "    \"A disciplina Programação Orientada a Objetos I possui ST266 como pré-requisito.\",\n",
    "    \"Qual é o pré-requisito da disciplina Banco de Dados I?\",\n",
    "    \"A disciplina Programação Orientada a Objetos I possui TT106 como pré-requisito.\",\n",
    "    \"Qual é o pré-requisito da disciplina Estatística?\",\n",
    "    \"Não há pré-requisitos para essa disciplina.\",\n",
    "    \"Qual é o pré-requisito da disciplina Redes de Comunicação I?\",\n",
    "    \"Para o curso de BSI não há pré-requisitos para essa disciplina. Entretanto, para o curso de TADS possui a disciplina de Organização e Arquitetura de Computadores como pré-requisito.\",\n",
    "    \n",
    "    \"Quantos créditos possui a disciplina SI300?\",\n",
    "    \"A disciplina Programação Orientada a Objetos I possui 4 créditos.\",\n",
    "    \"Quantos créditos possui a disciplina SI304?\",\n",
    "    \"A disciplina Engenharia de Software II possui 4 créditos.\",\n",
    "    \"Quantos créditos possui a disciplina SI350?\",\n",
    "    \"A disciplina Teoria Geral de Sistemas possui 2 créditos.\",\n",
    "    \"Quantos créditos possui a disciplina SI404?\",\n",
    "    \"A disciplina Introdução a Interfaces Humano-Computador possui 2 créditos.\",\n",
    "    \"Quantos créditos possui a disciplina ST567?\",\n",
    "    \"A disciplina Banco de Dados I possui 4 créditos.\",\n",
    "    \"Quantos créditos possui a disciplina ST211?\",\n",
    "    \"A disciplina Estatística possui 4 créditos.\",\n",
    "    \"Quantos créditos possui a disciplina ST568?\",\n",
    "    \"A disciplina Redes de Comunicação I possui 4 créditos.\"\n",
    "]\n",
    "\n",
    "trainer = ListTrainer(chatbot)\n",
    "trainer.train(treinamento)\n",
    "\n",
    "while True:\n",
    "    mensagem = input(\"Mande uma mensagem para o ChatBot:\")\n",
    "    if mensagem == \"parar\":\n",
    "            break\n",
    "    resposta = chatbot.get_response(mensagem)\n",
    "    print(resposta)"
   ]
  },
  {
   "cell_type": "code",
   "execution_count": null,
   "id": "99465437",
   "metadata": {},
   "outputs": [],
   "source": []
  }
 ],
 "metadata": {
  "kernelspec": {
   "display_name": "Python 3",
   "language": "python",
   "name": "python3"
  },
  "language_info": {
   "codemirror_mode": {
    "name": "ipython",
    "version": 3
   },
   "file_extension": ".py",
   "mimetype": "text/x-python",
   "name": "python",
   "nbconvert_exporter": "python",
   "pygments_lexer": "ipython3",
   "version": "3.6.13"
  }
 },
 "nbformat": 4,
 "nbformat_minor": 5
}
