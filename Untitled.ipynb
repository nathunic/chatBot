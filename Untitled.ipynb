{
 "cells": [
  {
   "cell_type": "code",
   "execution_count": 5,
   "id": "ce2e5be6",
   "metadata": {},
   "outputs": [
    {
     "name": "stdout",
     "output_type": "stream",
     "text": [
      "✔ Download and installation successful\n",
      "You can now load the package via spacy.load('en_core_web_sm')\n"
     ]
    }
   ],
   "source": [
    "from chatterbot import ChatBot\n",
    "from chatterbot.trainers import ListTrainer\n",
    "\n",
    "from spacy.cli import download\n",
    "\n",
    "download(\"en_core_web_sm\")\n",
    "\n",
    "class ENGSM:\n",
    "        ISO_639_1 = 'en_core_web_sm'\n"
   ]
  },
  {
   "cell_type": "code",
   "execution_count": null,
   "id": "cb7e7fb1",
   "metadata": {},
   "outputs": [
    {
     "name": "stdout",
     "output_type": "stream",
     "text": [
      "List Trainer: [####################] 100%\n",
      "Mande uma mensagem para o ChatBot:saber o código de Fundamentos de Sistemas de Informação\n",
      "O código dessa matéria é SI101.\n",
      "Mande uma mensagem para o ChatBot:quero saber o código de Fundamentos de Sistemas de Informação\n",
      "O código dessa matéria é SI101.\n",
      "Mande uma mensagem para o ChatBot:créditos disciplina SI304?\n",
      "A disciplina Programação Orientada a Objetos I possui 4 créditos.\n"
     ]
    }
   ],
   "source": [
    "chatbot = ChatBot(\"ChatClass\", tagger_language=ENGSM)\n",
    "\n",
    "treinamento = [\n",
    "    ##Q&A gerais\n",
    "    \"Oie\",\n",
    "    \"Olá, como posso te ajudar?\",\n",
    "    \"Entendi, obrigada.\",\n",
    "    \"Estou aqui para te auxiliar. No que mais posso ajudar?\",\n",
    "    \n",
    "    ##Q&A especificas sobre a DAC\n",
    "    \"limite de créditos por semestre?\",\n",
    "    \"Você pode cursar até no máximo 30 créditos por período letivo\",\n",
    "    \"curriculo de BSI possui eletivas?\",\n",
    "    \"Possui sim. É necessário realizar 16 créditos eletivos em BSI. Conforme o currículo sugerido, há espaços para eletivas na grade no 4o, 5o e 6o semestre. Porém você não precisa se limitar a isso. Faça eletivas em todo semestre, é uma ótima forma de ampliar seu conhecimento\",\n",
    "    \n",
    "    ##Q&A especificas sobre a BSI\n",
    "    \"saber sobre o curso de Bacharelado em Sistemas da Informação\",\n",
    "    \"Atualmente o curso de BSI possui 47 disciplinas obrigatórias, que poderão ser integralizadas entre 8 semestres e 12 semestres, conforme proposta oferecida no currículo pleno.\",\n",
    "    \n",
    "    #Q&A especificas o 1o semestre de BSI\n",
    "    \"saber sobre as disciplinas do primeiro semestre do curso de BSI\",\n",
    "    \"No primeiro semestre de BSI é ensinado Cálculo I, Algoritmos e Programação de Computadores I, Fundamentos de Sistemas de Informação, Seminários I, Lógica Matemática, Metodologia do Trabalho Científico, Organização e Arquitetura de Computadores e Administração de Empresas\",\n",
    "    \"saber o código de Fundamentos de Sistemas de Informação\",\n",
    "    \"O código dessa matéria é SI101.\",\n",
    "    \"saber o código de Lógica Matemática\",\n",
    "    \"O código dessa matéria é SI120.\",\n",
    "    \n",
    "    \"pré-requisito da disciplina SI101?\",\n",
    "    \"Essa é uma matéria do primeiro semestre, portanto não possui pré-requisito.\",\n",
    "    \"pré-requisito da disciplina SI120?\",\n",
    "    \"Essa é uma matéria do primeiro semestre, portanto não possui pré-requisito.\",\n",
    "    \n",
    "    \"créditos possui a disciplina SI101?\",\n",
    "    \"A disciplina possui 2 créditos.\",\n",
    "    \"créditos possui a disciplina SI120?\",\n",
    "    \"A disciplina possui 2 créditos.\",\n",
    "    \n",
    "    #Q&A especificas o 3o semestre de BSI\n",
    "    \"saber o código das disciplinas do terceiro semestre do curso de BSI.\",\n",
    "    \"No terceiro semestre de BSI é ensinado SI300, SI304, SI350, SI404, ST567, ST211, ST568 e TT304.\",\n",
    "    \"saber o nome das disciplinas do terceiro semestre do curso de BSI.\",\n",
    "    \"No terceiro semestre de BSI é ensinado Programação Orientada a Objetos I, Engenharia de Software II, Teoria Geral de Sistemas, Introdução a Interfaces Humano-Computador, Banco de Dados I, Estatística, Redes de Comunicação I e Sistemas Operacionais\",\n",
    "    \"saber o código de Programação Orientada a Objetos I\",\n",
    "    \"O código dessa matéria é SI300.\",\n",
    "    \"saber o código de Engenharia de Software II\",\n",
    "    \"O código dessa matéria é SI304.\",\n",
    "    \"saber o código de Teoria Geral de Sistemas\",\n",
    "    \"O código dessa matéria é SI350.\",\n",
    "    \"Quero saber o código de Introdução a Interfaces Humano-Computador?\",\n",
    "    \"O código dessa matéria é SI404.\",\n",
    "    \"saber o código de Banco de Dados I\",\n",
    "    \"O código dessa matéria é ST567.\",\n",
    "    \"saber o código de Estatística\",\n",
    "    \"O código dessa matéria é ST211.\",\n",
    "    \"saber o código de Redes de Comunicação I\",\n",
    "    \"O código dessa matéria é ST568.\",\n",
    "    \n",
    "    \"pré-requisito da disciplina Programação Orientada a Objetos I?\",\n",
    "    \"A disciplina Programação Orientada a Objetos I possui SI100 como pré-requisito.\",\n",
    "    \"pré-requisito da disciplina Engenharia de Software II?\",\n",
    "    \"A disciplina Engenharia de Software II possui ST266 como pré-requisito.\",\n",
    "    \"pré-requisito da disciplina Teoria Geral de Sistemas?\",\n",
    "    \"A disciplina Teoria Geral de Sistemas possui TT350 como pré-requisito.\",\n",
    "    \"pré-requisito da disciplina Introdução a Interfaces Humano-Computador?\",\n",
    "    \"A disciplina Introdução a Interfaces Humano-Computador possui ST266 como pré-requisito.\",\n",
    "    \"pré-requisito da disciplina Banco de Dados I?\",\n",
    "    \"A disciplina Banco de Dados I possui TT106 como pré-requisito.\",\n",
    "    \"pré-requisito da disciplina Estatística?\",\n",
    "    \"Não há pré-requisitos para essa disciplina.\",\n",
    "    \"pré-requisito da disciplina Redes de Comunicação I?\",\n",
    "    \"Para o curso de BSI não há pré-requisitos para essa disciplina. Entretanto, para o curso de TADS possui a disciplina de Organização e Arquitetura de Computadores como pré-requisito.\",\n",
    "    \n",
    "    \n",
    "    \"créditos disciplina SI304?\",\n",
    "    \"A disciplina Engenharia de Software II possui 4 créditos.\",\n",
    "    \"créditos disciplina SI350?\",\n",
    "    \"A disciplina Teoria Geral de Sistemas possui 2 créditos.\",\n",
    "    \"créditos disciplina SI404?\",\n",
    "    \"A disciplina Introdução a Interfaces Humano-Computador possui 2 créditos.\",\n",
    "    \"créditos disciplina ST567?\",\n",
    "    \"A disciplina Banco de Dados I possui 4 créditos.\",\n",
    "    \"créditos disciplina ST211?\",\n",
    "    \"A disciplina Estatística possui 4 créditos.\",\n",
    "    \"créditos disciplina ST568?\",\n",
    "    \"A disciplina Redes de Comunicação I possui 4 créditos.\",\n",
    "    \"créditos disciplina SI300?\",\n",
    "    \"A disciplina Programação Orientada a Objetos I possui 4 créditos.\"\n",
    "]\n",
    "\n",
    "trainer = ListTrainer(chatbot)\n",
    "trainer.train(treinamento)\n",
    "\n",
    "while True:\n",
    "    mensagem = input(\"Mande uma mensagem para o ChatBot:\")\n",
    "    if mensagem == \"parar\":\n",
    "            break\n",
    "    resposta = chatbot.get_response(mensagem)\n",
    "    print(resposta)"
   ]
  },
  {
   "cell_type": "code",
   "execution_count": null,
   "id": "1a44568f",
   "metadata": {},
   "outputs": [],
   "source": [
    "chatbot.storage().drop()"
   ]
  },
  {
   "cell_type": "code",
   "execution_count": null,
   "id": "59b79be3",
   "metadata": {},
   "outputs": [],
   "source": []
  }
 ],
 "metadata": {
  "kernelspec": {
   "display_name": "Python 3",
   "language": "python",
   "name": "python3"
  },
  "language_info": {
   "codemirror_mode": {
    "name": "ipython",
    "version": 3
   },
   "file_extension": ".py",
   "mimetype": "text/x-python",
   "name": "python",
   "nbconvert_exporter": "python",
   "pygments_lexer": "ipython3",
   "version": "3.6.13"
  }
 },
 "nbformat": 4,
 "nbformat_minor": 5
}
